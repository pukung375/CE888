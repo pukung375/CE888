{
  "nbformat": 4,
  "nbformat_minor": 0,
  "metadata": {
    "colab": {
      "name": "bootstrap.ipynb",
      "provenance": [],
      "include_colab_link": true
    },
    "kernelspec": {
      "name": "python3",
      "display_name": "Python 3"
    },
    "language_info": {
      "codemirror_mode": {
        "name": "ipython",
        "version": 3
      },
      "file_extension": ".py",
      "mimetype": "text/x-python",
      "name": "python",
      "nbconvert_exporter": "python",
      "pygments_lexer": "ipython3",
      "version": "3.6.5"
    },
    "pycharm": {
      "stem_cell": {
        "cell_type": "raw",
        "metadata": {
          "collapsed": false
        },
        "source": []
      }
    },
    "accelerator": "GPU"
  },
  "cells": [
    {
      "cell_type": "markdown",
      "metadata": {
        "id": "view-in-github",
        "colab_type": "text"
      },
      "source": [
        "<a href=\"https://colab.research.google.com/github/pukung375/CE888/blob/master/Lab2/bootstrap.ipynb\" target=\"_parent\"><img src=\"https://colab.research.google.com/assets/colab-badge.svg\" alt=\"Open In Colab\"/></a>"
      ]
    },
    {
      "cell_type": "markdown",
      "metadata": {
        "colab_type": "text",
        "id": "nCi_99yMYIb1"
      },
      "source": [
        "In this notebook you'll create your own bootstrap function following the bootstrap algorithm (check the lecture notes!)"
      ]
    },
    {
      "cell_type": "code",
      "metadata": {
        "colab_type": "code",
        "id": "LY5zujI2YC37",
        "pycharm": {
          "name": "#%%# Imports\n"
        },
        "colab": {}
      },
      "source": [
        "import matplotlib\n",
        "import pandas as pd\n",
        "import seaborn as sns\n",
        "import numpy as np\n",
        "\n"
      ],
      "execution_count": 0,
      "outputs": []
    },
    {
      "cell_type": "code",
      "metadata": {
        "colab_type": "code",
        "id": "Eqkwj4SMY38t",
        "outputId": "27298ae3-c078-4f47-907b-0c60bdef103f",
        "colab": {
          "base_uri": "https://localhost:8080/",
          "height": 34
        }
      },
      "source": [
        "# Load the data\n",
        "df = pd.read_csv('https://raw.githubusercontent.com/albanda/CE888/master/lab2%20-%20bootstrap/customers.csv')\n",
        "data = df.values.T[1]\n",
        "print(data)"
      ],
      "execution_count": 0,
      "outputs": [
        {
          "output_type": "stream",
          "text": [
            "[ 2.  8. 20. 13.  5.  9. 10.  8. 22. 10.  2.  4.  7.  9.]\n"
          ],
          "name": "stdout"
        }
      ]
    },
    {
      "cell_type": "code",
      "metadata": {
        "id": "ccS3NqJ-M3uU",
        "colab_type": "code",
        "colab": {}
      },
      "source": [
        "def boostrap_mean(sample, sample_size, n_iterations):\n",
        "\n",
        "  boostrap_sample = np.random.choice(sample, size=(n_iterations,sample_size), replace=True)\n",
        "  mean_array = np.mean(boostrap_sample, axis=1)\n",
        "  data_mean = np.mean(mean_array)\n",
        "  lower, upper = np.percentile(mean_array,[5, 95])\n",
        "  return data_mean, lower, upper"
      ],
      "execution_count": 0,
      "outputs": []
    },
    {
      "cell_type": "code",
      "metadata": {
        "colab_type": "code",
        "id": "AN7sEOcMYC4P",
        "pycharm": {
          "name": "#%%\n"
        },
        "outputId": "f189c639-cd80-4069-ec42-2395654884f3",
        "colab": {
          "base_uri": "https://localhost:8080/",
          "height": 386
        }
      },
      "source": [
        "# Call your bootstrap function and plot the results\n",
        "\n",
        "boots = []\n",
        "for i in range(100, 100000, 1000):\n",
        "    boot = boostrap_mean(data, data.shape[0], i)\n",
        "    boots.append([i, boot[0], \"mean\"])\n",
        "    boots.append([i, boot[1], \"lower\"])\n",
        "    boots.append([i, boot[2], \"upper\"])\n",
        "\n",
        "df_boot = pd.DataFrame(boots, columns=['Boostrap Iterations', 'Mean', \"Value\"])\n",
        "sns_plot = sns.lmplot(df_boot.columns[0], df_boot.columns[1], data=df_boot, fit_reg=False, hue=\"Value\")\n",
        "\n",
        "sns_plot.axes[0, 0].set_ylim(0,)\n",
        "sns_plot.axes[0, 0].set_xlim(0, 100000)\n",
        "\n",
        "#sns_plot.savefig(\"bootstrap_confidence.png\", bbox_inches='tight')\n",
        "#sns_plot.savefig(\"bootstrap_confidence.pdf\", bbox_inches='tight')\n",
        "\n"
      ],
      "execution_count": 0,
      "outputs": [
        {
          "output_type": "execute_result",
          "data": {
            "text/plain": [
              "(0, 100000)"
            ]
          },
          "metadata": {
            "tags": []
          },
          "execution_count": 21
        },
        {
          "output_type": "display_data",
          "data": {
            "image/png": "[encoded data removed]",
            "text/plain": [
              "<Figure size 425.125x360 with 1 Axes>"
            ]
          },
          "metadata": {
            "tags": []
          }
        }
      ]
    },
    {
      "cell_type": "markdown",
      "metadata": {
        "colab_type": "text",
        "id": "MjtP4e2_YC4V"
      },
      "source": [
        "\n",
        "Now, modify the bootstrap function so that you can pass your desired confidence interval as a parameter.\n",
        "\n"
      ]
    },
    {
      "cell_type": "code",
      "metadata": {
        "id": "cXYiS0EyPbkt",
        "colab_type": "code",
        "colab": {}
      },
      "source": [
        "def boostrap_mean_ci(sample, sample_size, iterations, ci):\n",
        "    boostrap_sample = np.random.choice(sample, size=(iterations,sample_size), replace=True)\n",
        "    mean_array = np.mean(boostrap_sample, axis=1)\n",
        "    data_mean = np.mean(mean_array)\n",
        "    lower, upper = np.percentile(mean_array, [100-ci, ci])\n",
        "\n",
        "    return data_mean, lower, upper"
      ],
      "execution_count": 0,
      "outputs": []
    },
    {
      "cell_type": "code",
      "metadata": {
        "colab_type": "code",
        "id": "uDnjq08GYl-C",
        "outputId": "6c1e9ea0-5838-4035-9f84-162ee9990436",
        "colab": {
          "base_uri": "https://localhost:8080/",
          "height": 369
        }
      },
      "source": [
        "\n",
        "boots = []\n",
        "for i in range(100, 100000, 1000):\n",
        "    boot = boostrap_mean_ci(data, data.shape[0], i, 80)\n",
        "    boots.append([i, boot[0], \"mean\"])\n",
        "    boots.append([i, boot[1], \"lower\"])\n",
        "    boots.append([i, boot[2], \"upper\"])\n",
        "\n",
        "df_boot = pd.DataFrame(boots, columns=['Boostrap Iterations', 'Mean', \"Value\"])\n",
        "sns_plot = sns.lmplot(df_boot.columns[0], df_boot.columns[1], data=df_boot, fit_reg=False, hue=\"Value\")\n",
        "\n",
        "sns_plot.axes[0, 0].set_ylim(0,)\n",
        "sns_plot.axes[0, 0].set_xlim(0, 100000)\n",
        "\n",
        "sns_plot.savefig(\"bootstrap_confidence_80.png\", bbox_inches='tight')\n",
        "sns_plot.savefig(\"bootstrap_confidence_80.pdf\", bbox_inches='tight')\n"
      ],
      "execution_count": 0,
      "outputs": [
        {
          "output_type": "display_data",
          "data": {
            "image/png": "[encoded data removed]",
            "text/plain": [
              "<Figure size 425.125x360 with 1 Axes>"
            ]
          },
          "metadata": {
            "tags": []
          }
        }
      ]
    },
    {
      "cell_type": "markdown",
      "metadata": {
        "colab_type": "text",
        "id": "qjNgXW6wdd7r"
      },
      "source": [
        "# Vehicles dataset\n",
        "\n",
        "Now let's work on a different dataset. Load the vehicles.csv file and check the Moodle page for instructions on how to proceed\n"
      ]
    },
    {
      "cell_type": "code",
      "metadata": {
        "colab_type": "code",
        "id": "avWv4ipFdpka",
        "colab": {}
      },
      "source": [
        "import matplotlib\n",
        "import pandas as pd\n",
        "import seaborn as sns\n",
        "import numpy as np\n"
      ],
      "execution_count": 0,
      "outputs": []
    },
    {
      "cell_type": "code",
      "metadata": {
        "id": "dezMQEV6Vi4a",
        "colab_type": "code",
        "colab": {
          "base_uri": "https://localhost:8080/",
          "height": 255
        },
        "outputId": "09ac5434-017a-414e-fedd-ad4d201d3fa2"
      },
      "source": [
        "# Load and visualise the vehicles dataset\n",
        "# Load the data\n",
        "    df = pd.read_csv('https://raw.githubusercontent.com/albanda/CE888/master/lab2%20-%20bootstrap/vehicles.csv')\n",
        "    data = df.values.T[1]\n",
        "    print(data)\n",
        "# Note: you can add more cells as needed to organise your code and your plots"
      ],
      "execution_count": 3,
      "outputs": [
        {
          "output_type": "stream",
          "text": [
            "[24. 27. 27. 25. 31. 35. 24. 19. 28. 23. 27. 20. 22. 18. 20. 31. 32. 31.\n",
            " 32. 24. 26. 29. 24. 24. 33. 33. 32. 28. 19. 32. 34. 26. 30. 22. 22. 33.\n",
            " 39. 36. 28. 27. 21. 24. 30. 34. 32. 38. 37. 30. 31. 37. 32. 47. 41. 45.\n",
            " 34. 33. 24. 32. 39. 35. 32. 37. 38. 34. 34. 32. 33. 32. 25. 24. 37. 31.\n",
            " 36. 36. 34. 38. 32. 38. 32. nan nan nan nan nan nan nan nan nan nan nan\n",
            " nan nan nan nan nan nan nan nan nan nan nan nan nan nan nan nan nan nan\n",
            " nan nan nan nan nan nan nan nan nan nan nan nan nan nan nan nan nan nan\n",
            " nan nan nan nan nan nan nan nan nan nan nan nan nan nan nan nan nan nan\n",
            " nan nan nan nan nan nan nan nan nan nan nan nan nan nan nan nan nan nan\n",
            " nan nan nan nan nan nan nan nan nan nan nan nan nan nan nan nan nan nan\n",
            " nan nan nan nan nan nan nan nan nan nan nan nan nan nan nan nan nan nan\n",
            " nan nan nan nan nan nan nan nan nan nan nan nan nan nan nan nan nan nan\n",
            " nan nan nan nan nan nan nan nan nan nan nan nan nan nan nan nan nan nan\n",
            " nan nan nan nan nan nan nan nan nan nan nan nan nan nan nan]\n"
          ],
          "name": "stdout"
        }
      ]
    },
    {
      "cell_type": "code",
      "metadata": {
        "id": "Nvs33gAZVscx",
        "colab_type": "code",
        "colab": {}
      },
      "source": [
        "def boostrap_mean(sample, sample_size, n_iterations):\n",
        "\n",
        "  boostrap_sample = np.random.choice(sample, size=(n_iterations,sample_size), replace=True)\n",
        "  mean_array = np.mean(boostrap_sample, axis=1)\n",
        "  data_mean = np.mean(mean_array)\n",
        "  lower, upper = np.percentile(mean_array,[5, 95])\n",
        "  return data_mean, lower, upper"
      ],
      "execution_count": 0,
      "outputs": []
    },
    {
      "cell_type": "code",
      "metadata": {
        "id": "6Xbdyx6zVxZT",
        "colab_type": "code",
        "colab": {
          "base_uri": "https://localhost:8080/",
          "height": 386
        },
        "outputId": "75b932a3-3e59-4b7d-ab6a-d02345b222ea"
      },
      "source": [
        "boots = []\n",
        "for i in range(100, 100000, 1000):\n",
        "    boot = boostrap_mean(data, data.shape[0], i)\n",
        "    boots.append([i, boot[0], \"mean\"])\n",
        "    boots.append([i, boot[1], \"lower\"])\n",
        "    boots.append([i, boot[2], \"upper\"])\n",
        "\n",
        "df_boot = pd.DataFrame(boots, columns=['Boostrap Iterations', 'Mean', \"Value\"])\n",
        "sns_plot = sns.lmplot(df_boot.columns[0], df_boot.columns[1], data=df_boot, fit_reg=False, hue=\"Value\")\n",
        "\n",
        "sns_plot.axes[0, 0].set_ylim(0,)\n",
        "sns_plot.axes[0, 0].set_xlim(0, 100000)\n",
        "\n",
        "#sns_plot.savefig(\"bootstrap_confidence.png\", bbox_inches='tight')\n",
        "#sns_plot.savefig(\"bootstrap_confidence.pdf\", bbox_inches='tight')"
      ],
      "execution_count": 5,
      "outputs": [
        {
          "output_type": "execute_result",
          "data": {
            "text/plain": [
              "(0, 100000)"
            ]
          },
          "metadata": {
            "tags": []
          },
          "execution_count": 5
        },
        {
          "output_type": "display_data",
          "data": {
            "image/png": "[encoded data removed]",
            "text/plain": [
              "<Figure size 425.125x360 with 1 Axes>"
            ]
          },
          "metadata": {
            "tags": []
          }
        }
      ]
    },
    {
      "cell_type": "code",
      "metadata": {
        "colab_type": "code",
        "id": "BAKyj983dwSM",
        "colab": {}
      },
      "source": [
        "# Compare the two fleets.\n",
        "# You can create a permutation test function to do this. Check the lecture notes!"
      ],
      "execution_count": 0,
      "outputs": []
    },
    {
      "cell_type": "code",
      "metadata": {
        "colab_type": "code",
        "id": "if-RY4aTd4CZ",
        "colab": {}
      },
      "source": [
        ""
      ],
      "execution_count": 0,
      "outputs": []
    }
  ]
}