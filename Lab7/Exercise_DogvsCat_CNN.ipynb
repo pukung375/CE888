{
  "nbformat": 4,
  "nbformat_minor": 0,
  "metadata": {
    "colab": {
      "name": "Exercise2_DogvsCat_CNN",
      "provenance": [],
      "authorship_tag": "ABX9TyPLY9scBx8T2REHFMT+NkXh",
      "include_colab_link": true
    },
    "kernelspec": {
      "name": "python3",
      "display_name": "Python 3"
    }
  },
  "cells": [
    {
      "cell_type": "markdown",
      "metadata": {
        "id": "view-in-github",
        "colab_type": "text"
      },
      "source": [
        "<a href=\"https://colab.research.google.com/github/pukung375/CE888/blob/master/Lab7/Exercise_DogvsCat_CNN.ipynb\" target=\"_parent\"><img src=\"https://colab.research.google.com/assets/colab-badge.svg\" alt=\"Open In Colab\"/></a>"
      ]
    },
    {
      "cell_type": "code",
      "metadata": {
        "id": "4ZHT-FVRTCs9",
        "colab_type": "code",
        "outputId": "ecf5e4ec-6830-434e-f90c-4c02049c40a4",
        "colab": {
          "base_uri": "https://localhost:8080/",
          "height": 187
        }
      },
      "source": [
        "import os\n",
        "os.environ['KAGGLE_USERNAME'] = \"phoemsukatitaya\" # username from the json file\n",
        "os.environ['KAGGLE_KEY'] = \"b59fbddc862327d7f88174bfabe6e0fc\" # key from the json file\n",
        "!kaggle competitions download -c dogs-vs-cats # api copied from kaggle"
      ],
      "execution_count": 0,
      "outputs": [
        {
          "output_type": "stream",
          "text": [
            "Warning: Looks like you're using an outdated API Version, please consider updating (server 1.5.6 / client 1.5.4)\n",
            "Downloading train.zip to /content\n",
            "100% 543M/543M [00:03<00:00, 147MB/s]\n",
            "100% 543M/543M [00:03<00:00, 161MB/s]\n",
            "Downloading sampleSubmission.csv to /content\n",
            "  0% 0.00/86.8k [00:00<?, ?B/s]\n",
            "100% 86.8k/86.8k [00:00<00:00, 99.8MB/s]\n",
            "Downloading test1.zip to /content\n",
            " 96% 260M/271M [00:02<00:00, 140MB/s]\n",
            "100% 271M/271M [00:02<00:00, 134MB/s]\n"
          ],
          "name": "stdout"
        }
      ]
    },
    {
      "cell_type": "code",
      "metadata": {
        "id": "gBTm38lOTr8_",
        "colab_type": "code",
        "outputId": "909bc9d1-030e-4179-e1be-f86e151e91a3",
        "colab": {
          "base_uri": "https://localhost:8080/",
          "height": 34
        }
      },
      "source": [
        "# Upload data\n",
        "from zipfile import ZipFile\n",
        "\n",
        "file_name = \"/content/train.zip\"\n",
        "\n",
        "with ZipFile(file_name, 'r') as zip:\n",
        "  zip.extractall()\n",
        "  print('done')"
      ],
      "execution_count": 0,
      "outputs": [
        {
          "output_type": "stream",
          "text": [
            "done\n"
          ],
          "name": "stdout"
        }
      ]
    },
    {
      "cell_type": "code",
      "metadata": {
        "id": "LdlXLs4PTvaW",
        "colab_type": "code",
        "outputId": "cf7a87bd-ad29-4be1-96d0-d2e4597fdde5",
        "colab": {
          "base_uri": "https://localhost:8080/",
          "height": 34
        }
      },
      "source": [
        "data_dir_list = os.listdir('/content/train')\n",
        "#print(data_dir_list)\n",
        "\n",
        "path, dirs, files = next(os.walk(\"/content/train\"))\n",
        "file_count = len(files)\n",
        "print(file_count)"
      ],
      "execution_count": 0,
      "outputs": [
        {
          "output_type": "stream",
          "text": [
            "25000\n"
          ],
          "name": "stdout"
        }
      ]
    },
    {
      "cell_type": "code",
      "metadata": {
        "id": "v23N54saTzFK",
        "colab_type": "code",
        "colab": {}
      },
      "source": [
        "original_dataset_dir = '/content/train'\n",
        "base_dir = '/content/cats_and_dogs_small'\n",
        "os.mkdir(base_dir)"
      ],
      "execution_count": 0,
      "outputs": []
    },
    {
      "cell_type": "code",
      "metadata": {
        "id": "gTG7M9fKT1zQ",
        "colab_type": "code",
        "colab": {}
      },
      "source": [
        "train_dir = os.path.join(base_dir, 'train')\n",
        "os.mkdir(train_dir)\n",
        "\n",
        "validation_dir = os.path.join(base_dir, 'validation')\n",
        "os.mkdir(validation_dir)\n",
        "\n",
        "test_dir = os.path.join(base_dir, 'test')\n",
        "os.mkdir(test_dir)\n",
        "\n",
        "train_cats_dir = os.path.join(train_dir, 'cats')\n",
        "os.mkdir(train_cats_dir)\n",
        "\n",
        "train_dogs_dir = os.path.join(train_dir, 'dogs')\n",
        "os.mkdir(train_dogs_dir)\n",
        "\n",
        "validation_cats_dir = os.path.join(validation_dir, 'cats')\n",
        "os.mkdir(validation_cats_dir)\n",
        "\n",
        "validation_dogs_dir = os.path.join(validation_dir, 'dogs')\n",
        "os.mkdir(validation_dogs_dir)\n",
        "\n",
        "test_cats_dir = os.path.join(test_dir, 'cats')\n",
        "os.mkdir(test_cats_dir)\n",
        "\n",
        "test_dogs_dir = os.path.join(test_dir, 'dogs')\n",
        "os.mkdir(test_dogs_dir)"
      ],
      "execution_count": 0,
      "outputs": []
    },
    {
      "cell_type": "code",
      "metadata": {
        "id": "NtHOUzWVT2eq",
        "colab_type": "code",
        "colab": {}
      },
      "source": [
        "import shutil\n",
        "fnames = ['cat.{}.jpg'.format(i) for i in range(1000)]\n",
        "for fname in fnames:\n",
        "    src = os.path.join(original_dataset_dir, fname)\n",
        "    dst = os.path.join(train_cats_dir, fname)\n",
        "    #print(src,dst)\n",
        "    shutil.copyfile(src, dst)\n",
        "    \n",
        "fnames = ['cat.{}.jpg'.format(i) for i in range(1000, 1500)]\n",
        "for fname in fnames:\n",
        "    src = os.path.join(original_dataset_dir, fname)\n",
        "    dst = os.path.join(validation_cats_dir, fname)\n",
        "    shutil.copyfile(src, dst)\n",
        "\n",
        "fnames = ['cat.{}.jpg'.format(i) for i in range(1500, 2000)]\n",
        "for fname in fnames:\n",
        "    src = os.path.join(original_dataset_dir, fname)\n",
        "    dst = os.path.join(test_cats_dir, fname)\n",
        "    shutil.copyfile(src, dst)\n",
        "    \n",
        "fnames = ['dog.{}.jpg'.format(i) for i in range(1000)]\n",
        "for fname in fnames:\n",
        "    src = os.path.join(original_dataset_dir, fname)\n",
        "    dst = os.path.join(train_dogs_dir, fname)\n",
        "    shutil.copyfile(src, dst)\n",
        "\n",
        "fnames = ['dog.{}.jpg'.format(i) for i in range(1000, 1500)]\n",
        "for fname in fnames:\n",
        "    src = os.path.join(original_dataset_dir, fname)\n",
        "    dst = os.path.join(validation_dogs_dir, fname)\n",
        "    shutil.copyfile(src, dst)\n",
        "\n",
        "fnames = ['dog.{}.jpg'.format(i) for i in range(1500, 2000)]\n",
        "for fname in fnames:\n",
        "    src = os.path.join(original_dataset_dir, fname)\n",
        "    dst = os.path.join(test_dogs_dir, fname)\n",
        "    shutil.copyfile(src, dst)"
      ],
      "execution_count": 0,
      "outputs": []
    },
    {
      "cell_type": "code",
      "metadata": {
        "id": "JdLql03cT6ms",
        "colab_type": "code",
        "outputId": "ed369859-c42a-4ed0-b91b-ab7409a5671e",
        "colab": {
          "base_uri": "https://localhost:8080/",
          "height": 119
        }
      },
      "source": [
        "print('total training cat images:', len(os.listdir(train_cats_dir)))\n",
        "print('total training dog images:', len(os.listdir(train_dogs_dir)))\n",
        "print('total validation cat images:', len(os.listdir(validation_cats_dir)))\n",
        "\n",
        "print('total validation dog images:', len(os.listdir(validation_dogs_dir)))\n",
        "print('total test cat images:', len(os.listdir(test_cats_dir)))\n",
        "print('total test dog images:', len(os.listdir(test_dogs_dir)))"
      ],
      "execution_count": 0,
      "outputs": [
        {
          "output_type": "stream",
          "text": [
            "total training cat images: 1000\n",
            "total training dog images: 1000\n",
            "total validation cat images: 500\n",
            "total validation dog images: 500\n",
            "total test cat images: 500\n",
            "total test dog images: 500\n"
          ],
          "name": "stdout"
        }
      ]
    },
    {
      "cell_type": "code",
      "metadata": {
        "id": "jzsw07DAT9Tr",
        "colab_type": "code",
        "outputId": "43ded341-db28-4e66-e611-c7d33d89a4b3",
        "colab": {
          "base_uri": "https://localhost:8080/",
          "height": 746
        }
      },
      "source": [
        "from keras import layers\n",
        "from keras import models\n",
        "\n",
        "model = models.Sequential()\n",
        "model.add(layers.Conv2D(32, (3, 3), activation='relu', input_shape=(150, 150, 3)))\n",
        "model.add(layers.MaxPooling2D((2, 2)))\n",
        "model.add(layers.Conv2D(64, (3, 3), activation='relu'))\n",
        "model.add(layers.MaxPooling2D((2, 2)))\n",
        "model.add(layers.Conv2D(128, (3, 3), activation='relu'))\n",
        "model.add(layers.MaxPooling2D((2, 2)))\n",
        "model.add(layers.Conv2D(128, (3, 3), activation='relu'))\n",
        "model.add(layers.MaxPooling2D((2, 2)))\n",
        "model.add(layers.Flatten())\n",
        "model.add(layers.Dense(512, activation='relu'))\n",
        "model.add(layers.Dense(1, activation='sigmoid'))\n",
        "model.summary()"
      ],
      "execution_count": 0,
      "outputs": [
        {
          "output_type": "stream",
          "text": [
            "Using TensorFlow backend.\n"
          ],
          "name": "stderr"
        },
        {
          "output_type": "display_data",
          "data": {
            "text/html": [
              "<p style=\"color: red;\">\n",
              "The default version of TensorFlow in Colab will soon switch to TensorFlow 2.x.<br>\n",
              "We recommend you <a href=\"https://www.tensorflow.org/guide/migrate\" target=\"_blank\">upgrade</a> now \n",
              "or ensure your notebook will continue to use TensorFlow 1.x via the <code>%tensorflow_version 1.x</code> magic:\n",
              "<a href=\"https://colab.research.google.com/notebooks/tensorflow_version.ipynb\" target=\"_blank\">more info</a>.</p>\n"
            ],
            "text/plain": [
              "<IPython.core.display.HTML object>"
            ]
          },
          "metadata": {
            "tags": []
          }
        },
        {
          "output_type": "stream",
          "text": [
            "WARNING:tensorflow:From /usr/local/lib/python3.6/dist-packages/keras/backend/tensorflow_backend.py:66: The name tf.get_default_graph is deprecated. Please use tf.compat.v1.get_default_graph instead.\n",
            "\n",
            "WARNING:tensorflow:From /usr/local/lib/python3.6/dist-packages/keras/backend/tensorflow_backend.py:541: The name tf.placeholder is deprecated. Please use tf.compat.v1.placeholder instead.\n",
            "\n",
            "WARNING:tensorflow:From /usr/local/lib/python3.6/dist-packages/keras/backend/tensorflow_backend.py:4432: The name tf.random_uniform is deprecated. Please use tf.random.uniform instead.\n",
            "\n",
            "WARNING:tensorflow:From /usr/local/lib/python3.6/dist-packages/keras/backend/tensorflow_backend.py:4267: The name tf.nn.max_pool is deprecated. Please use tf.nn.max_pool2d instead.\n",
            "\n",
            "Model: \"sequential_1\"\n",
            "_________________________________________________________________\n",
            "Layer (type)                 Output Shape              Param #   \n",
            "=================================================================\n",
            "conv2d_1 (Conv2D)            (None, 148, 148, 32)      896       \n",
            "_________________________________________________________________\n",
            "max_pooling2d_1 (MaxPooling2 (None, 74, 74, 32)        0         \n",
            "_________________________________________________________________\n",
            "conv2d_2 (Conv2D)            (None, 72, 72, 64)        18496     \n",
            "_________________________________________________________________\n",
            "max_pooling2d_2 (MaxPooling2 (None, 36, 36, 64)        0         \n",
            "_________________________________________________________________\n",
            "conv2d_3 (Conv2D)            (None, 34, 34, 128)       73856     \n",
            "_________________________________________________________________\n",
            "max_pooling2d_3 (MaxPooling2 (None, 17, 17, 128)       0         \n",
            "_________________________________________________________________\n",
            "conv2d_4 (Conv2D)            (None, 15, 15, 128)       147584    \n",
            "_________________________________________________________________\n",
            "max_pooling2d_4 (MaxPooling2 (None, 7, 7, 128)         0         \n",
            "_________________________________________________________________\n",
            "flatten_1 (Flatten)          (None, 6272)              0         \n",
            "_________________________________________________________________\n",
            "dense_1 (Dense)              (None, 512)               3211776   \n",
            "_________________________________________________________________\n",
            "dense_2 (Dense)              (None, 1)                 513       \n",
            "=================================================================\n",
            "Total params: 3,453,121\n",
            "Trainable params: 3,453,121\n",
            "Non-trainable params: 0\n",
            "_________________________________________________________________\n"
          ],
          "name": "stdout"
        }
      ]
    },
    {
      "cell_type": "code",
      "metadata": {
        "id": "cJygatMJT-PG",
        "colab_type": "code",
        "outputId": "0368fc5d-463b-443e-853f-1a083ff4cf68",
        "colab": {
          "base_uri": "https://localhost:8080/",
          "height": 156
        }
      },
      "source": [
        "from keras import optimizers\n",
        "model.compile(loss='binary_crossentropy', \n",
        "              optimizer=optimizers.RMSprop(lr=1e-4),\n",
        "              metrics=['acc'])"
      ],
      "execution_count": 0,
      "outputs": [
        {
          "output_type": "stream",
          "text": [
            "WARNING:tensorflow:From /usr/local/lib/python3.6/dist-packages/keras/optimizers.py:793: The name tf.train.Optimizer is deprecated. Please use tf.compat.v1.train.Optimizer instead.\n",
            "\n",
            "WARNING:tensorflow:From /usr/local/lib/python3.6/dist-packages/keras/backend/tensorflow_backend.py:3657: The name tf.log is deprecated. Please use tf.math.log instead.\n",
            "\n",
            "WARNING:tensorflow:From /tensorflow-1.15.0/python3.6/tensorflow_core/python/ops/nn_impl.py:183: where (from tensorflow.python.ops.array_ops) is deprecated and will be removed in a future version.\n",
            "Instructions for updating:\n",
            "Use tf.where in 2.0, which has the same broadcast rule as np.where\n"
          ],
          "name": "stdout"
        }
      ]
    },
    {
      "cell_type": "markdown",
      "metadata": {
        "id": "8Fpl-__KUEB5",
        "colab_type": "text"
      },
      "source": [
        "#Using ImageDataGenerator to read images from directories\n",
        "As you know by now, data should be formatted into appropriately preprocessed floatingpoint tensors before being fed into the network. Currently, the data sits on a drive as JPEG files, so the steps for getting it into the network are roughly as follows:\n",
        "\n",
        "* Read the picture files.\n",
        "* Decode the JPEG content to RGB grids of pixels.\n",
        "* Convert these into floating-point tensors.\n",
        "* Rescale the pixel values (between 0 and 255) to the [0, 1] interval (as you know, neural networks prefer to deal with small input values).\n",
        "\n",
        "It may seem a bit daunting, but fortunately Keras has utilities to take care of these steps automatically. Keras has a module with image-processing helper tools, located at keras.preprocessing.image. In particular, it contains the class ImageDataGenerator,which lets you quickly set up Python generators that can automatically turn image files on disk into batches of preprocessed tensors."
      ]
    },
    {
      "cell_type": "code",
      "metadata": {
        "id": "F49qKp3WUA7T",
        "colab_type": "code",
        "outputId": "7aef64c1-8c89-447d-f4f1-038e383be2a9",
        "colab": {
          "base_uri": "https://localhost:8080/",
          "height": 51
        }
      },
      "source": [
        "from keras.preprocessing.image import ImageDataGenerator\n",
        "\n",
        "train_datagen = ImageDataGenerator(rescale=1./255)\n",
        "test_datagen = ImageDataGenerator(rescale=1./255)\n",
        "\n",
        "train_generator = train_datagen.flow_from_directory(train_dir,\n",
        "                                                    target_size=(150, 150), \n",
        "                                                    batch_size=20,\n",
        "                                                    class_mode='binary')\n",
        "\n",
        "validation_generator = test_datagen.flow_from_directory(validation_dir,\n",
        "                                                        target_size=(150, 150),\n",
        "                                                        batch_size=20,\n",
        "                                                        class_mode='binary')"
      ],
      "execution_count": 0,
      "outputs": [
        {
          "output_type": "stream",
          "text": [
            "Found 2000 images belonging to 2 classes.\n",
            "Found 1000 images belonging to 2 classes.\n"
          ],
          "name": "stdout"
        }
      ]
    },
    {
      "cell_type": "markdown",
      "metadata": {
        "id": "BpsLzRQlUahj",
        "colab_type": "text"
      },
      "source": [
        "Let’s fit the model to the data using the generator. You do so using the fit_generator method, the equivalent of fit for data generators like this one. It expects as its first argument a Python generator that will yield batches of inputs and targets indefinitely,like this one does. Because the data is being generated endlessly, the Keras model needs to know how many samples to draw from the generator before declaring anepoch over. This is the role of the steps_per_epoch argument: after having drawn steps_per_epoch batches from the generator—that is, after having run for steps_per_epoch gradient descent steps—the fitting process will go to the next epoch. In this case, batches are 20 samples, so it will take 100 batches until you see your target of 2,000 samples.\n",
        "\n",
        "When using fit_generator, you can pass a validation_data argument, much as with the fit method. It’s important to note that this argument is allowed to be a data generator, but it could also be a tuple of Numpy arrays. If you pass a generator as validation_data, then this generator is expected to yield batches of validation data endlessly; thus you should also specify the validation_steps argument, which tells the process how many batches to draw from the validation generator for evaluation."
      ]
    },
    {
      "cell_type": "code",
      "metadata": {
        "id": "AT-iGl4rUbYm",
        "colab_type": "code",
        "outputId": "57e18664-37ab-4940-b276-5977244dd72b",
        "colab": {
          "base_uri": "https://localhost:8080/",
          "height": 1000
        }
      },
      "source": [
        "history = model.fit_generator(train_generator,\n",
        "                              steps_per_epoch=100,\n",
        "                              epochs=30,\n",
        "                              validation_data=validation_generator,\n",
        "                              validation_steps=10)"
      ],
      "execution_count": 0,
      "outputs": [
        {
          "output_type": "stream",
          "text": [
            "WARNING:tensorflow:From /usr/local/lib/python3.6/dist-packages/keras/backend/tensorflow_backend.py:1033: The name tf.assign_add is deprecated. Please use tf.compat.v1.assign_add instead.\n",
            "\n",
            "WARNING:tensorflow:From /usr/local/lib/python3.6/dist-packages/keras/backend/tensorflow_backend.py:1020: The name tf.assign is deprecated. Please use tf.compat.v1.assign instead.\n",
            "\n",
            "WARNING:tensorflow:From /usr/local/lib/python3.6/dist-packages/keras/backend/tensorflow_backend.py:3005: The name tf.Session is deprecated. Please use tf.compat.v1.Session instead.\n",
            "\n",
            "Epoch 1/30\n",
            "WARNING:tensorflow:From /usr/local/lib/python3.6/dist-packages/keras/backend/tensorflow_backend.py:190: The name tf.get_default_session is deprecated. Please use tf.compat.v1.get_default_session instead.\n",
            "\n",
            "WARNING:tensorflow:From /usr/local/lib/python3.6/dist-packages/keras/backend/tensorflow_backend.py:197: The name tf.ConfigProto is deprecated. Please use tf.compat.v1.ConfigProto instead.\n",
            "\n",
            "WARNING:tensorflow:From /usr/local/lib/python3.6/dist-packages/keras/backend/tensorflow_backend.py:207: The name tf.global_variables is deprecated. Please use tf.compat.v1.global_variables instead.\n",
            "\n",
            "WARNING:tensorflow:From /usr/local/lib/python3.6/dist-packages/keras/backend/tensorflow_backend.py:216: The name tf.is_variable_initialized is deprecated. Please use tf.compat.v1.is_variable_initialized instead.\n",
            "\n",
            "WARNING:tensorflow:From /usr/local/lib/python3.6/dist-packages/keras/backend/tensorflow_backend.py:223: The name tf.variables_initializer is deprecated. Please use tf.compat.v1.variables_initializer instead.\n",
            "\n",
            "100/100 [==============================] - 102s 1s/step - loss: 0.6913 - acc: 0.5290 - val_loss: 0.6757 - val_acc: 0.6550\n",
            "Epoch 2/30\n",
            "100/100 [==============================] - 101s 1s/step - loss: 0.6627 - acc: 0.6065 - val_loss: 0.6390 - val_acc: 0.6100\n",
            "Epoch 3/30\n",
            "100/100 [==============================] - 101s 1s/step - loss: 0.6136 - acc: 0.6670 - val_loss: 0.6050 - val_acc: 0.6400\n",
            "Epoch 4/30\n",
            "100/100 [==============================] - 100s 1s/step - loss: 0.5767 - acc: 0.6925 - val_loss: 0.6215 - val_acc: 0.6550\n",
            "Epoch 5/30\n",
            "100/100 [==============================] - 100s 1s/step - loss: 0.5500 - acc: 0.7145 - val_loss: 0.7655 - val_acc: 0.5750\n",
            "Epoch 6/30\n",
            "100/100 [==============================] - 101s 1s/step - loss: 0.5222 - acc: 0.7425 - val_loss: 0.6849 - val_acc: 0.5950\n",
            "Epoch 7/30\n",
            "100/100 [==============================] - 101s 1s/step - loss: 0.4983 - acc: 0.7505 - val_loss: 0.5118 - val_acc: 0.7350\n",
            "Epoch 8/30\n",
            "100/100 [==============================] - 101s 1s/step - loss: 0.4789 - acc: 0.7660 - val_loss: 0.6013 - val_acc: 0.6600\n",
            "Epoch 9/30\n",
            "100/100 [==============================] - 100s 1s/step - loss: 0.4513 - acc: 0.7815 - val_loss: 0.6354 - val_acc: 0.6450\n",
            "Epoch 10/30\n",
            "100/100 [==============================] - 100s 1s/step - loss: 0.4314 - acc: 0.7940 - val_loss: 0.5365 - val_acc: 0.7300\n",
            "Epoch 11/30\n",
            "100/100 [==============================] - 101s 1s/step - loss: 0.4068 - acc: 0.8145 - val_loss: 0.5647 - val_acc: 0.7400\n",
            "Epoch 12/30\n",
            "100/100 [==============================] - 101s 1s/step - loss: 0.3796 - acc: 0.8370 - val_loss: 0.6397 - val_acc: 0.6700\n",
            "Epoch 13/30\n",
            "100/100 [==============================] - 101s 1s/step - loss: 0.3630 - acc: 0.8475 - val_loss: 0.5208 - val_acc: 0.7450\n",
            "Epoch 14/30\n",
            "100/100 [==============================] - 100s 1s/step - loss: 0.3365 - acc: 0.8510 - val_loss: 0.6016 - val_acc: 0.7050\n",
            "Epoch 15/30\n",
            "100/100 [==============================] - 101s 1s/step - loss: 0.3180 - acc: 0.8575 - val_loss: 0.5546 - val_acc: 0.7450\n",
            "Epoch 16/30\n",
            "100/100 [==============================] - 102s 1s/step - loss: 0.2982 - acc: 0.8685 - val_loss: 0.5865 - val_acc: 0.7350\n",
            "Epoch 17/30\n",
            "100/100 [==============================] - 100s 1s/step - loss: 0.2735 - acc: 0.8890 - val_loss: 0.5746 - val_acc: 0.7150\n",
            "Epoch 18/30\n",
            "100/100 [==============================] - 102s 1s/step - loss: 0.2457 - acc: 0.8995 - val_loss: 0.7892 - val_acc: 0.6150\n",
            "Epoch 19/30\n",
            "100/100 [==============================] - 102s 1s/step - loss: 0.2293 - acc: 0.9130 - val_loss: 0.7085 - val_acc: 0.7300\n",
            "Epoch 20/30\n",
            "100/100 [==============================] - 100s 1s/step - loss: 0.2059 - acc: 0.9250 - val_loss: 0.6445 - val_acc: 0.7750\n",
            "Epoch 21/30\n",
            "100/100 [==============================] - 102s 1s/step - loss: 0.1847 - acc: 0.9255 - val_loss: 0.6588 - val_acc: 0.7750\n",
            "Epoch 22/30\n",
            "100/100 [==============================] - 101s 1s/step - loss: 0.1701 - acc: 0.9375 - val_loss: 0.6718 - val_acc: 0.7150\n",
            "Epoch 23/30\n",
            "100/100 [==============================] - 101s 1s/step - loss: 0.1494 - acc: 0.9445 - val_loss: 0.8571 - val_acc: 0.6750\n",
            "Epoch 24/30\n",
            "100/100 [==============================] - 101s 1s/step - loss: 0.1334 - acc: 0.9550 - val_loss: 0.9353 - val_acc: 0.6750\n",
            "Epoch 25/30\n",
            "100/100 [==============================] - 101s 1s/step - loss: 0.1183 - acc: 0.9525 - val_loss: 0.9819 - val_acc: 0.6950\n",
            "Epoch 26/30\n",
            "100/100 [==============================] - 102s 1s/step - loss: 0.0990 - acc: 0.9700 - val_loss: 0.8429 - val_acc: 0.7250\n",
            "Epoch 27/30\n",
            "100/100 [==============================] - 101s 1s/step - loss: 0.0879 - acc: 0.9700 - val_loss: 0.7668 - val_acc: 0.7550\n",
            "Epoch 28/30\n",
            "100/100 [==============================] - 101s 1s/step - loss: 0.0805 - acc: 0.9740 - val_loss: 1.6843 - val_acc: 0.6150\n",
            "Epoch 29/30\n",
            "100/100 [==============================] - 101s 1s/step - loss: 0.0663 - acc: 0.9800 - val_loss: 0.9089 - val_acc: 0.7200\n",
            "Epoch 30/30\n",
            "100/100 [==============================] - 101s 1s/step - loss: 0.0594 - acc: 0.9825 - val_loss: 1.0745 - val_acc: 0.6850\n"
          ],
          "name": "stdout"
        }
      ]
    },
    {
      "cell_type": "code",
      "metadata": {
        "id": "tFJ_ssHtUhe_",
        "colab_type": "code",
        "outputId": "98602776-385d-4f5f-f2ac-9a60ea5e86d7",
        "colab": {
          "base_uri": "https://localhost:8080/",
          "height": 545
        }
      },
      "source": [
        "model.save('cats_and_dogs_small_1.h5')\n",
        "\n",
        "import matplotlib.pyplot as plt\n",
        "\n",
        "acc = history.history['acc']\n",
        "val_acc = history.history['val_acc']\n",
        "loss = history.history['loss']\n",
        "val_loss = history.history['val_loss']\n",
        "\n",
        "epochs = range(1, len(acc) + 1)\n",
        "\n",
        "plt.plot(epochs, acc, 'bo', label='Training acc')\n",
        "plt.plot(epochs, val_acc, 'b', label='Validation acc')\n",
        "plt.title('Training and validation accuracy')\n",
        "plt.legend()\n",
        "\n",
        "plt.figure()\n",
        "\n",
        "plt.plot(epochs, loss, 'bo', label='Training loss')\n",
        "plt.plot(epochs, val_loss, 'b', label='Validation loss')\n",
        "plt.title('Training and validation loss')\n",
        "plt.legend()\n",
        "\n",
        "plt.show()"
      ],
      "execution_count": 0,
      "outputs": [
        {
          "output_type": "display_data",
          "data": {
            "image/png": "[encoded data removed]",
            "text/plain": [
              "<Figure size 432x288 with 1 Axes>"
            ]
          },
          "metadata": {
            "tags": []
          }
        },
        {
          "output_type": "display_data",
          "data": {
            "image/png": "[encoded data removed]",
            "text/plain": [
              "<Figure size 432x288 with 1 Axes>"
            ]
          },
          "metadata": {
            "tags": []
          }
        }
      ]
    },
    {
      "cell_type": "markdown",
      "metadata": {
        "id": "OGurPtqUUiEq",
        "colab_type": "text"
      },
      "source": [
        "#**Convolutional Networks with Dropout**"
      ]
    },
    {
      "cell_type": "code",
      "metadata": {
        "id": "4WjXsYtZUm2q",
        "colab_type": "code",
        "outputId": "14ff3852-805c-4b44-e017-2ef2fa063767",
        "colab": {
          "base_uri": "https://localhost:8080/",
          "height": 122
        }
      },
      "source": [
        "model = models.Sequential()\n",
        "model.add(layers.Conv2D(32, (3, 3), activation='relu',\n",
        "input_shape=(150, 150, 3)))\n",
        "model.add(layers.MaxPooling2D((2, 2)))\n",
        "model.add(layers.Conv2D(64, (3, 3), activation='relu'))\n",
        "model.add(layers.MaxPooling2D((2, 2)))\n",
        "model.add(layers.Conv2D(128, (3, 3), activation='relu'))\n",
        "model.add(layers.MaxPooling2D((2, 2)))\n",
        "model.add(layers.Conv2D(128, (3, 3), activation='relu'))\n",
        "model.add(layers.MaxPooling2D((2, 2)))\n",
        "model.add(layers.Flatten())\n",
        "model.add(layers.Dropout(0.5))\n",
        "model.add(layers.Dense(512, activation='relu'))\n",
        "model.add(layers.Dense(1, activation='sigmoid'))\n",
        "\n",
        "model.compile(loss='binary_crossentropy',\n",
        "              optimizer=optimizers.RMSprop(lr=1e-4),\n",
        "              metrics=['acc'])"
      ],
      "execution_count": 0,
      "outputs": [
        {
          "output_type": "stream",
          "text": [
            "WARNING:tensorflow:From /usr/local/lib/python3.6/dist-packages/keras/backend/tensorflow_backend.py:148: The name tf.placeholder_with_default is deprecated. Please use tf.compat.v1.placeholder_with_default instead.\n",
            "\n",
            "WARNING:tensorflow:From /usr/local/lib/python3.6/dist-packages/keras/backend/tensorflow_backend.py:3733: calling dropout (from tensorflow.python.ops.nn_ops) with keep_prob is deprecated and will be removed in a future version.\n",
            "Instructions for updating:\n",
            "Please use `rate` instead of `keep_prob`. Rate should be set to `rate = 1 - keep_prob`.\n"
          ],
          "name": "stdout"
        }
      ]
    },
    {
      "cell_type": "code",
      "metadata": {
        "id": "sf9EfcZVUooI",
        "colab_type": "code",
        "outputId": "6c41d869-443b-4cdf-c383-528db3477908",
        "colab": {
          "base_uri": "https://localhost:8080/",
          "height": 731
        }
      },
      "source": [
        "train_datagen = ImageDataGenerator(rescale=1./255,\n",
        "                                   rotation_range=40,\n",
        "                                   width_shift_range=0.2,\n",
        "                                   height_shift_range=0.2,\n",
        "                                   shear_range=0.2,\n",
        "                                   zoom_range=0.2,\n",
        "                                   horizontal_flip=True,)\n",
        "\n",
        "test_datagen = ImageDataGenerator(rescale=1./255)\n",
        "\n",
        "train_generator = train_datagen.flow_from_directory(train_dir,\n",
        "                                                    target_size=(150, 150),\n",
        "                                                    batch_size=32,\n",
        "                                                    class_mode='binary')\n",
        "\n",
        "validation_generator = test_datagen.flow_from_directory(validation_dir,\n",
        "                                                        target_size=(150, 150),\n",
        "                                                        batch_size=32,\n",
        "                                                        class_mode='binary')\n",
        "\n",
        "history = model.fit_generator(train_generator,\n",
        "                              steps_per_epoch=100,\n",
        "                              epochs=20,\n",
        "                              validation_data=validation_generator,\n",
        "                              validation_steps=50)"
      ],
      "execution_count": 0,
      "outputs": [
        {
          "output_type": "stream",
          "text": [
            "Found 2000 images belonging to 2 classes.\n",
            "Found 1000 images belonging to 2 classes.\n",
            "Epoch 1/20\n",
            "100/100 [==============================] - 188s 2s/step - loss: 0.6904 - acc: 0.5256 - val_loss: 0.6790 - val_acc: 0.5799\n",
            "Epoch 2/20\n",
            "100/100 [==============================] - 185s 2s/step - loss: 0.6769 - acc: 0.5775 - val_loss: 0.6521 - val_acc: 0.6140\n",
            "Epoch 3/20\n",
            "100/100 [==============================] - 187s 2s/step - loss: 0.6619 - acc: 0.5894 - val_loss: 0.6517 - val_acc: 0.6047\n",
            "Epoch 4/20\n",
            "100/100 [==============================] - 187s 2s/step - loss: 0.6382 - acc: 0.6347 - val_loss: 0.6246 - val_acc: 0.6534\n",
            "Epoch 5/20\n",
            "100/100 [==============================] - 183s 2s/step - loss: 0.6246 - acc: 0.6510 - val_loss: 0.5986 - val_acc: 0.6669\n",
            "Epoch 6/20\n",
            "100/100 [==============================] - 187s 2s/step - loss: 0.6176 - acc: 0.6513 - val_loss: 0.6455 - val_acc: 0.6153\n",
            "Epoch 7/20\n",
            "100/100 [==============================] - 188s 2s/step - loss: 0.6057 - acc: 0.6613 - val_loss: 0.5545 - val_acc: 0.7170\n",
            "Epoch 8/20\n",
            "100/100 [==============================] - 190s 2s/step - loss: 0.5926 - acc: 0.6747 - val_loss: 0.6811 - val_acc: 0.6018\n",
            "Epoch 9/20\n",
            "100/100 [==============================] - 190s 2s/step - loss: 0.5867 - acc: 0.6841 - val_loss: 0.5842 - val_acc: 0.6817\n",
            "Epoch 10/20\n",
            "100/100 [==============================] - 187s 2s/step - loss: 0.5773 - acc: 0.7044 - val_loss: 0.5673 - val_acc: 0.6904\n",
            "Epoch 11/20\n",
            "100/100 [==============================] - 188s 2s/step - loss: 0.5701 - acc: 0.7063 - val_loss: 0.5482 - val_acc: 0.7075\n",
            "Epoch 12/20\n",
            "100/100 [==============================] - 186s 2s/step - loss: 0.5676 - acc: 0.7100 - val_loss: 0.5771 - val_acc: 0.6821\n",
            "Epoch 13/20\n",
            "100/100 [==============================] - 188s 2s/step - loss: 0.5656 - acc: 0.7041 - val_loss: 0.5052 - val_acc: 0.7513\n",
            "Epoch 14/20\n",
            "100/100 [==============================] - 187s 2s/step - loss: 0.5531 - acc: 0.7184 - val_loss: 0.5517 - val_acc: 0.7062\n",
            "Epoch 15/20\n",
            "100/100 [==============================] - 187s 2s/step - loss: 0.5480 - acc: 0.7241 - val_loss: 0.5560 - val_acc: 0.7146\n",
            "Epoch 16/20\n",
            "100/100 [==============================] - 185s 2s/step - loss: 0.5427 - acc: 0.7284 - val_loss: 0.5120 - val_acc: 0.7397\n",
            "Epoch 17/20\n",
            "100/100 [==============================] - 188s 2s/step - loss: 0.5474 - acc: 0.7228 - val_loss: 0.5075 - val_acc: 0.7348\n",
            "Epoch 18/20\n",
            "100/100 [==============================] - 188s 2s/step - loss: 0.5406 - acc: 0.7259 - val_loss: 0.6167 - val_acc: 0.6733\n",
            "Epoch 19/20\n",
            "100/100 [==============================] - 188s 2s/step - loss: 0.5338 - acc: 0.7328 - val_loss: 0.5671 - val_acc: 0.6935\n",
            "Epoch 20/20\n",
            "100/100 [==============================] - 186s 2s/step - loss: 0.5331 - acc: 0.7278 - val_loss: 0.4834 - val_acc: 0.7668\n"
          ],
          "name": "stdout"
        }
      ]
    },
    {
      "cell_type": "code",
      "metadata": {
        "id": "HDC2EX7zjFx7",
        "colab_type": "code",
        "colab": {}
      },
      "source": [
        ""
      ],
      "execution_count": 0,
      "outputs": []
    }
  ]
}