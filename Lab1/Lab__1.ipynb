{
  "nbformat": 4,
  "nbformat_minor": 0,
  "metadata": {
    "colab": {
      "name": "Lab__1.ipynb",
      "provenance": [],
      "authorship_tag": "ABX9TyMEccynGYgYeGepdRn6vZUg",
      "include_colab_link": true
    },
    "kernelspec": {
      "name": "python3",
      "display_name": "Python 3"
    }
  },
  "cells": [
    {
      "cell_type": "markdown",
      "metadata": {
        "id": "view-in-github",
        "colab_type": "text"
      },
      "source": [
        "<a href=\"https://colab.research.google.com/github/pukung375/CE888/blob/master/Lab1/Lab__1.ipynb\" target=\"_parent\"><img src=\"https://colab.research.google.com/assets/colab-badge.svg\" alt=\"Open In Colab\"/></a>"
      ]
    },
    {
      "cell_type": "markdown",
      "metadata": {
        "id": "xbAbCxbR0yV6",
        "colab_type": "text"
      },
      "source": [
        "\n",
        "1.Create a (4 x 2) integer array and print it's attributes"
      ]
    },
    {
      "cell_type": "code",
      "metadata": {
        "id": "WCa8Vaf306Ro",
        "colab_type": "code",
        "colab": {
          "base_uri": "https://localhost:8080/",
          "height": 84
        },
        "outputId": "0962a82a-1f79-4a1f-add5-df5a972bf57e"
      },
      "source": [
        "import numpy as np\n",
        "a = np.array([[1,2],[3,4],[5,6],[7,8]])\n",
        "print(a)"
      ],
      "execution_count": 3,
      "outputs": [
        {
          "output_type": "stream",
          "text": [
            "[[1 2]\n",
            " [3 4]\n",
            " [5 6]\n",
            " [7 8]]\n"
          ],
          "name": "stdout"
        }
      ]
    },
    {
      "cell_type": "markdown",
      "metadata": {
        "id": "xtyYB8wD1anq",
        "colab_type": "text"
      },
      "source": [
        "\n",
        "2.Create an array of dimension (1,10) and sort it in ascending and descending order"
      ]
    },
    {
      "cell_type": "code",
      "metadata": {
        "id": "D-FAIaiO1klk",
        "colab_type": "code",
        "colab": {
          "base_uri": "https://localhost:8080/",
          "height": 50
        },
        "outputId": "ce5cf3a6-4997-47df-bb69-036a40e92546"
      },
      "source": [
        "array = np.arange(10)\n",
        "array_ascending = np.sort(array)\n",
        "print(array_ascending )\n",
        "array_descending = array_ascending[::-1]\n",
        "print(array_descending)"
      ],
      "execution_count": 4,
      "outputs": [
        {
          "output_type": "stream",
          "text": [
            "[0 1 2 3 4 5 6 7 8 9]\n",
            "[9 8 7 6 5 4 3 2 1 0]\n"
          ],
          "name": "stdout"
        }
      ]
    },
    {
      "cell_type": "markdown",
      "metadata": {
        "id": "5HNbeFCT1nyN",
        "colab_type": "text"
      },
      "source": [
        "3.Convert an 1D array [1 2 3 4 5 6 7 8 9] to 2D array [[1 2 3], [4 5 6], [7 8 9]]"
      ]
    },
    {
      "cell_type": "code",
      "metadata": {
        "id": "2wi376l61ytM",
        "colab_type": "code",
        "colab": {
          "base_uri": "https://localhost:8080/",
          "height": 67
        },
        "outputId": "9a8879fc-1af3-4f09-9e92-ef6eb5054a7b"
      },
      "source": [
        "a = np.arange(1,10).reshape(3, 3)\n",
        "print(a)"
      ],
      "execution_count": 5,
      "outputs": [
        {
          "output_type": "stream",
          "text": [
            "[[1 2 3]\n",
            " [4 5 6]\n",
            " [7 8 9]]\n"
          ],
          "name": "stdout"
        }
      ]
    },
    {
      "cell_type": "markdown",
      "metadata": {
        "id": "-e_Ck0ji12_J",
        "colab_type": "text"
      },
      "source": [
        "\n",
        "4.Stack two arrays of any size horizontally and vertically"
      ]
    },
    {
      "cell_type": "code",
      "metadata": {
        "id": "DJOrOaJy15i2",
        "colab_type": "code",
        "colab": {
          "base_uri": "https://localhost:8080/",
          "height": 150
        },
        "outputId": "fbebad0a-a0a6-4789-d452-b1a703db1f62"
      },
      "source": [
        "\n",
        "a = np.array([[1, 2], [3, 4]])\n",
        "b = np.array([[5, 6]])\n",
        "array1 = np.concatenate((a, b), axis=0)\n",
        "array2 = np.concatenate((a, b.T), axis=1)\n",
        "print(\"vertically\")\n",
        "print(array1)\n",
        "print(\"-----------------\")\n",
        "print(\"horizontally\")\n",
        "print(array2)"
      ],
      "execution_count": 6,
      "outputs": [
        {
          "output_type": "stream",
          "text": [
            "vertically\n",
            "[[1 2]\n",
            " [3 4]\n",
            " [5 6]]\n",
            "-----------------\n",
            "horizontally\n",
            "[[1 2 5]\n",
            " [3 4 6]]\n"
          ],
          "name": "stdout"
        }
      ]
    },
    {
      "cell_type": "markdown",
      "metadata": {
        "id": "R8bE9nPP19Xa",
        "colab_type": "text"
      },
      "source": [
        "\n",
        "5.Create two array of same size and find commom elements"
      ]
    },
    {
      "cell_type": "code",
      "metadata": {
        "id": "rmnDwFJO2AWJ",
        "colab_type": "code",
        "colab": {
          "base_uri": "https://localhost:8080/",
          "height": 150
        },
        "outputId": "787cdef5-901e-4e00-f5d9-115c6823e486"
      },
      "source": [
        "a = np.arange(1,5).reshape(2,2)\n",
        "b = np.array([[1,3],[4,5]])\n",
        "print(\"---- Array a ----\")\n",
        "print(a)\n",
        "print(\"---- Array b ----\")\n",
        "print(b)\n",
        "print(\"---- Comment Elements----\")\n",
        "np.intersect1d(a,b)"
      ],
      "execution_count": 7,
      "outputs": [
        {
          "output_type": "stream",
          "text": [
            "---- Array a ----\n",
            "[[1 2]\n",
            " [3 4]]\n",
            "---- Array b ----\n",
            "[[1 3]\n",
            " [4 5]]\n",
            "---- Comment Elements----\n"
          ],
          "name": "stdout"
        },
        {
          "output_type": "execute_result",
          "data": {
            "text/plain": [
              "array([1, 3, 4])"
            ]
          },
          "metadata": {
            "tags": []
          },
          "execution_count": 7
        }
      ]
    },
    {
      "cell_type": "markdown",
      "metadata": {
        "id": "LkHpfS_P2ETc",
        "colab_type": "text"
      },
      "source": [
        "6.Create a 2D array of 5 by 5 and find the min and max values from each row and each column"
      ]
    },
    {
      "cell_type": "code",
      "metadata": {
        "id": "QOF_0ZID2Gzr",
        "colab_type": "code",
        "colab": {
          "base_uri": "https://localhost:8080/",
          "height": 234
        },
        "outputId": "a75c0b93-3d7d-4a7b-da0e-6d60d674bf78"
      },
      "source": [
        "a = np.random.randint(1,100,25).reshape(5,5)\n",
        "print(a)\n",
        "maxValue_c = np.amax(a, axis=0)\n",
        "print(\"--- Maximum value from each column ---\")\n",
        "print(maxValue_c)\n",
        "minValue_c = np.amin(a, axis=0)\n",
        "print(\"--- Minimum value from each column ---\")\n",
        "print(minValue_c)\n",
        "\n",
        "maxValue_r = np.amax(a, axis=1)\n",
        "print(\"--- Maximum value from each row ---\")\n",
        "print(maxValue_r)\n",
        "minValue_r = np.amin(a, axis= 1)\n",
        "print(\"--- Minimum value from each row ---\")\n",
        "print(minValue_r)"
      ],
      "execution_count": 8,
      "outputs": [
        {
          "output_type": "stream",
          "text": [
            "[[70 20 90 66 54]\n",
            " [86 56 52 90 64]\n",
            " [55 85 70 23 13]\n",
            " [21 38 58 69 28]\n",
            " [48 43 10 21 28]]\n",
            "--- Maximum value from each column ---\n",
            "[86 85 90 90 64]\n",
            "--- Minimum value from each column ---\n",
            "[21 20 10 21 13]\n",
            "--- Maximum value from each row ---\n",
            "[90 90 85 69 48]\n",
            "--- Minimum value from each row ---\n",
            "[20 52 13 21 10]\n"
          ],
          "name": "stdout"
        }
      ]
    },
    {
      "cell_type": "markdown",
      "metadata": {
        "id": "4M1OPfuY2Kz9",
        "colab_type": "text"
      },
      "source": [
        "7.Create an array of size 100 and compute the mean, median, standard deviation."
      ]
    },
    {
      "cell_type": "code",
      "metadata": {
        "id": "q_ImJxMr2Naj",
        "colab_type": "code",
        "colab": {
          "base_uri": "https://localhost:8080/",
          "height": 284
        },
        "outputId": "419b1e38-6414-4b34-807a-73f684850e02"
      },
      "source": [
        "a = np.random.randint(1,100,100).reshape(10,10)\n",
        "print(a)\n",
        "print(\"--- Mean Value ---\")\n",
        "MeanValue = np.mean(a)\n",
        "print(MeanValue)\n",
        "print(\"--- Median Value ---\")\n",
        "MedianValue = np.median(a)\n",
        "print(MedianValue)\n",
        "print(\"--- standard deviation ---\")\n",
        "stdValue = np.std(a)\n",
        "print(stdValue)"
      ],
      "execution_count": 9,
      "outputs": [
        {
          "output_type": "stream",
          "text": [
            "[[58  6 50 73 76 68 72 24 49 29]\n",
            " [47 71  5  9 61 22 79 50 86 89]\n",
            " [ 5 71 77 37 80 38 37 97 26 22]\n",
            " [80 71 23 31 50 67 72 36  9 10]\n",
            " [21 64 80 80 38 10 82 48 41 71]\n",
            " [87 12 71 57 94 22 68 28 74 64]\n",
            " [74 10 94 70  6 98 86 40 69 79]\n",
            " [61 84 58 98 43  9 90 82 32 60]\n",
            " [36 23 41 68 42 99 87 32 90 74]\n",
            " [41  1 51 81 63 93 29 78 85 96]]\n",
            "--- Mean Value ---\n",
            "55.28\n",
            "--- Median Value ---\n",
            "61.0\n",
            "--- standard deviation ---\n",
            "27.76475463604892\n"
          ],
          "name": "stdout"
        }
      ]
    },
    {
      "cell_type": "markdown",
      "metadata": {
        "id": "KX7XyYh62VhL",
        "colab_type": "text"
      },
      "source": [
        "\n",
        "8.Normalize a 5x5 random matrix"
      ]
    },
    {
      "cell_type": "code",
      "metadata": {
        "id": "jCtMab3o2W3C",
        "colab_type": "code",
        "colab": {
          "base_uri": "https://localhost:8080/",
          "height": 100
        },
        "outputId": "de4872c9-8406-4156-d965-df59285a1eda"
      },
      "source": [
        "a = np.random.randint(1,20,25).reshape(5,5)\n",
        "print(a)"
      ],
      "execution_count": 10,
      "outputs": [
        {
          "output_type": "stream",
          "text": [
            "[[13 18  9 16  8]\n",
            " [ 8  3 19  1  6]\n",
            " [13 17 12 17 13]\n",
            " [19  7 12 16 14]\n",
            " [ 1  2  4 15 15]]\n"
          ],
          "name": "stdout"
        }
      ]
    },
    {
      "cell_type": "markdown",
      "metadata": {
        "id": "vnSDSuQ32bdZ",
        "colab_type": "text"
      },
      "source": [
        "\n",
        "9.Consider an array of dimension (4,4,3), how to mulitply it by an array with dimensions (4,4)?"
      ]
    },
    {
      "cell_type": "code",
      "metadata": {
        "id": "TqTdwYTN2eTn",
        "colab_type": "code",
        "colab": {
          "base_uri": "https://localhost:8080/",
          "height": 334
        },
        "outputId": "2e9374a8-c692-43cf-8c41-e1cafb6b520d"
      },
      "source": [
        "a = np.arange(1,49).reshape(4,4,3)\n",
        "b = np.arange(1,17).reshape(4,4)\n",
        "\n",
        "a*b[:,:,None]"
      ],
      "execution_count": 11,
      "outputs": [
        {
          "output_type": "execute_result",
          "data": {
            "text/plain": [
              "array([[[  1,   2,   3],\n",
              "        [  8,  10,  12],\n",
              "        [ 21,  24,  27],\n",
              "        [ 40,  44,  48]],\n",
              "\n",
              "       [[ 65,  70,  75],\n",
              "        [ 96, 102, 108],\n",
              "        [133, 140, 147],\n",
              "        [176, 184, 192]],\n",
              "\n",
              "       [[225, 234, 243],\n",
              "        [280, 290, 300],\n",
              "        [341, 352, 363],\n",
              "        [408, 420, 432]],\n",
              "\n",
              "       [[481, 494, 507],\n",
              "        [560, 574, 588],\n",
              "        [645, 660, 675],\n",
              "        [736, 752, 768]]])"
            ]
          },
          "metadata": {
            "tags": []
          },
          "execution_count": 11
        }
      ]
    }
  ]
}